{
 "cells": [
  {
   "cell_type": "code",
   "execution_count": 52,
   "metadata": {
    "collapsed": true
   },
   "outputs": [],
   "source": [
    "%matplotlib inline\n",
    "import pandas as pd\n",
    "import numpy as np\n",
    "import matplotlib.pyplot as plt\n",
    "import matplotlib.image as mpimg\n",
    "from PIL import Image\n",
    "import glob\n",
    "import os\n",
    "import collections\n",
    "from sklearn.cross_validation import train_test_split\n",
    "import scipy.io\n",
    "import csv"
   ]
  },
  {
   "cell_type": "code",
   "execution_count": 53,
   "metadata": {
    "collapsed": false
   },
   "outputs": [
    {
     "name": "stdout",
     "output_type": "stream",
     "text": [
      "(16151, 1) (16151, 1) (16151, 4)\n"
     ]
    }
   ],
   "source": [
    "car_data = pd.read_csv(\"car_data.csv\")\n",
    "X = np.array(car_data.ix[:,0:1])\n",
    "y = np.array(car_data.ix[:,1:2])\n",
    "A = np.array(car_data.ix[:,2:6])\n",
    "print(X.shape, y.shape, A.shape)"
   ]
  },
  {
   "cell_type": "code",
   "execution_count": 65,
   "metadata": {
    "collapsed": false
   },
   "outputs": [],
   "source": [
    "newsize = 227, 227\n",
    "root = ('/home/rajithameka/DL/notebooks/car/')\n",
    "files = os.listdir(root)\n",
    "files.sort()"
   ]
  },
  {
   "cell_type": "code",
   "execution_count": 64,
   "metadata": {
    "collapsed": false
   },
   "outputs": [],
   "source": [
    "for i in range(16151):\n",
    "    name = root+files[i]\n",
    "    img = Image.open(name)\n",
    "    box = A[i]\n",
    "    region = img.crop(box)\n",
    "    region = region.resize((227, 227), Image.ANTIALIAS)\n",
    "    region.save(root+files[i])\n",
    "    "
   ]
  },
  {
   "cell_type": "code",
   "execution_count": null,
   "metadata": {
    "collapsed": true
   },
   "outputs": [],
   "source": []
  }
 ],
 "metadata": {
  "kernelspec": {
   "display_name": "Python 3",
   "language": "python",
   "name": "python3"
  },
  "language_info": {
   "codemirror_mode": {
    "name": "ipython",
    "version": 3
   },
   "file_extension": ".py",
   "mimetype": "text/x-python",
   "name": "python",
   "nbconvert_exporter": "python",
   "pygments_lexer": "ipython3",
   "version": "3.4.3"
  }
 },
 "nbformat": 4,
 "nbformat_minor": 1
}
