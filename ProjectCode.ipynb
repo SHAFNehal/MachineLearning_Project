{
 "cells": [
  {
   "cell_type": "code",
   "execution_count": null,
   "metadata": {
    "collapsed": true
   },
   "outputs": [],
   "source": [
    "# Load Necessary Modules\n",
    "import tensorflow as tf\n",
    "import numpy as np\n",
    "import scipy.io\n",
    "import tarfile\n",
    "import os\n",
    "import matplotlib.pyplot as plt\n",
    "import random as rnd"
   ]
  },
  {
   "cell_type": "code",
   "execution_count": null,
   "metadata": {
    "collapsed": false
   },
   "outputs": [],
   "source": [
    "# Extract Image from Compressed File\n",
    "# The Compressed Data has to be in the Same Directory as the Code File\n",
    "def import_data():\n",
    "    if \"data\" not in os.listdir(os.getcwd()):\n",
    "        tarObject = tarfile.open(\"car_ims.tgz\")\n",
    "        tarObject.extractall()\n",
    "        tarObject.close()\n",
    "        print(\"Extracted Compressed Data to Current Directory\")\n",
    "    else:\n",
    "        # we've already extracted the files\n",
    "        print(\"Data Already Extracted\")\n",
    "        pass\n",
    "    \n",
    "    #Write a portion of code that will split the data into train & test\n",
    "    \n",
    "    # ( The Code will go here )\n",
    "    \n",
    "    #print(\"Load Training Data\")\n",
    "    #Xtrain\n",
    "    #Ytrain\n",
    "    #print(\"Load Testing Data\")\n",
    "    #Xtest\n",
    "    #Ytest\n",
    "    #print(\"Data Loaded\")\n",
    "    #return Xtrain,Ytrain,Xtest,Ytest\n",
    "\n",
    "#Code Execution for imported Data\n",
    "#Xtrain,Ytrain,Xtest,Ytest=import_data()"
   ]
  },
  {
   "cell_type": "code",
   "execution_count": null,
   "metadata": {
    "collapsed": true
   },
   "outputs": [],
   "source": [
    "# Size of Training and Testing Data\n",
    "# numFeatures = the number of words extracted from each email = number of input nodes\n",
    "Ntrain = Xtrain.shape[1]\n",
    "# numLabels = number of classes we are predicting (here just 2: Ham or Spam) = number of output nodes\n",
    "Ntest = Ytrain.shape[1]"
   ]
  },
  {
   "cell_type": "code",
   "execution_count": null,
   "metadata": {
    "collapsed": false
   },
   "outputs": [],
   "source": [
    "# Read Annotation file\n",
    "mat = scipy.io.loadmat('cars_annos.mat')\n",
    "Annot=mat['annotations']\n",
    "del mat\n",
    "print(Annot)"
   ]
  },
  {
   "cell_type": "code",
   "execution_count": null,
   "metadata": {
    "collapsed": false
   },
   "outputs": [],
   "source": [
    "#Shuffle Image Data Annotations (Run before splitting the Data into Training and Testing only)\n",
    "for i in range(20185):\n",
    "    rnd.shuffle(Annot)"
   ]
  },
  {
   "cell_type": "code",
   "execution_count": null,
   "metadata": {
    "collapsed": true
   },
   "outputs": [],
   "source": []
  }
 ],
 "metadata": {
  "kernelspec": {
   "display_name": "Python 3",
   "language": "python",
   "name": "python3"
  },
  "language_info": {
   "codemirror_mode": {
    "name": "ipython",
    "version": 3
   },
   "file_extension": ".py",
   "mimetype": "text/x-python",
   "name": "python",
   "nbconvert_exporter": "python",
   "pygments_lexer": "ipython3",
   "version": "3.4.3"
  }
 },
 "nbformat": 4,
 "nbformat_minor": 1
}
