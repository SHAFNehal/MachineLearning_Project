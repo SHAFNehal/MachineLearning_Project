{
 "cells": [
  {
   "cell_type": "code",
   "execution_count": 1,
   "metadata": {
    "collapsed": false
   },
   "outputs": [],
   "source": [
    "import os\n",
    "import sys\n",
    "\n",
    "import pandas as pd\n",
    "import numpy as np\n",
    "\n",
    "import matplotlib.pyplot as plt\n",
    "import matplotlib.image as mpimg\n",
    "from scipy import ndimage\n",
    "\n",
    "from six.moves import cPickle as pickle\n",
    "\n",
    "import tensorflow as tf"
   ]
  },
  {
   "cell_type": "code",
   "execution_count": 2,
   "metadata": {
    "collapsed": false
   },
   "outputs": [],
   "source": [
    "train_data = pd.read_csv(\"annot3.csv\")\n",
    "X = np.array(train_data.ix[:,0:1])\n",
    "Y = np.array(train_data.ix[:,1:2])\n",
    "\n",
    "root = '/home/cc/MLFP/NewSet'\n",
    "image_path_train = []\n",
    "for i, j in enumerate(X):\n",
    "    image_path_train.append(os.path.join(root+'/'+j[0])) "
   ]
  },
  {
   "cell_type": "code",
   "execution_count": 3,
   "metadata": {
    "collapsed": false
   },
   "outputs": [
    {
     "data": {
      "text/plain": [
       "(2334, 1)"
      ]
     },
     "execution_count": 3,
     "metadata": {},
     "output_type": "execute_result"
    }
   ],
   "source": [
    "np.shape(X)"
   ]
  },
  {
   "cell_type": "code",
   "execution_count": 4,
   "metadata": {
    "collapsed": true
   },
   "outputs": [],
   "source": [
    "label = Y[:,0]\n",
    "\n",
    "num_labels = 25\n",
    "\n",
    "def reformat(labels):\n",
    "    labels = (np.arange(num_labels) == labels[:,None]).astype(np.float32)\n",
    "    labels[labels > 0.5] = 1#0.9\n",
    "    labels[labels < 0.5] = 0#0.1\n",
    "    return labels\n",
    "\n",
    "labels = reformat(label)"
   ]
  },
  {
   "cell_type": "code",
   "execution_count": 5,
   "metadata": {
    "collapsed": false
   },
   "outputs": [
    {
     "name": "stdout",
     "output_type": "stream",
     "text": [
      "[0]\n"
     ]
    }
   ],
   "source": [
    "print(Y[1,])"
   ]
  },
  {
   "cell_type": "code",
   "execution_count": 6,
   "metadata": {
    "collapsed": false
   },
   "outputs": [],
   "source": [
    "X_train = np.zeros((2334, 227, 227, 3), dtype=np.float32)\n",
    "for i, path in enumerate(image_path_train):\n",
    "    try:\n",
    "        #print(path)\n",
    "        X_train[i,:,:,:] = mpimg.imread(path).astype(float)\n",
    "    except IOError as e:\n",
    "        print('Could not read:', path, ':', e, 'it\\'s ok, skipping.')\n",
    "        print('The index is:', i)\n"
   ]
  },
  {
   "cell_type": "code",
   "execution_count": 7,
   "metadata": {
    "collapsed": true
   },
   "outputs": [],
   "source": [
    "dataset = {'data'  : X_train,\n",
    "           'labels': labels}\n",
    "pickle.dump(dataset,open(\"Train2.pickle\",\"wb\"))"
   ]
  },
  {
   "cell_type": "code",
   "execution_count": null,
   "metadata": {
    "collapsed": true
   },
   "outputs": [],
   "source": []
  }
 ],
 "metadata": {
  "kernelspec": {
   "display_name": "Python 2",
   "language": "python",
   "name": "python2"
  },
  "language_info": {
   "codemirror_mode": {
    "name": "ipython",
    "version": 2
   },
   "file_extension": ".py",
   "mimetype": "text/x-python",
   "name": "python",
   "nbconvert_exporter": "python",
   "pygments_lexer": "ipython2",
   "version": "2.7.6"
  }
 },
 "nbformat": 4,
 "nbformat_minor": 1
}
