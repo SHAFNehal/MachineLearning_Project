{
 "cells": [
  {
   "cell_type": "code",
   "execution_count": 41,
   "metadata": {
    "collapsed": true
   },
   "outputs": [],
   "source": [
    "%matplotlib inline\n",
    "import numpy as np\n",
    "import scipy.io as spio\n",
    "import matplotlib.pyplot as plt\n",
    "import matplotlib.image as mpimg\n",
    "from PIL import Image\n",
    "import glob\n",
    "import os\n",
    "import collections\n",
    "from sklearn.cross_validation import train_test_split\n",
    "from scipy import stats\n",
    "from scipy import ndimage\n",
    "import skimage.io as io\n",
    "from skimage import data_dir\n",
    "import scipy.io\n",
    "import csv"
   ]
  },
  {
   "cell_type": "code",
   "execution_count": 42,
   "metadata": {
    "collapsed": false
   },
   "outputs": [],
   "source": [
    "root = '/home/rajithameka/DL/notebooks/car_images'\n",
    "\n",
    "image_names = os.listdir(root)\n",
    "#print(image_names)"
   ]
  },
  {
   "cell_type": "code",
   "execution_count": 43,
   "metadata": {
    "collapsed": false
   },
   "outputs": [
    {
     "name": "stdout",
     "output_type": "stream",
     "text": [
      ".ipynb_checkpoints\n"
     ]
    }
   ],
   "source": [
    "image_path = []\n",
    "\n",
    "for i, j in enumerate(image_names):\n",
    "        #print(j)\n",
    "        if j == '.ipynb_checkpoints':\n",
    "            print(j)\n",
    "        else:\n",
    "            image_path.append(os.path.join(root + '/' + j))  \n",
    "    "
   ]
  },
  {
   "cell_type": "code",
   "execution_count": 44,
   "metadata": {
    "collapsed": false
   },
   "outputs": [
    {
     "name": "stdout",
     "output_type": "stream",
     "text": [
      "/home/rajithameka/DL/notebooks/car_images/001319.png\n",
      "/home/rajithameka/DL/notebooks/car_images/001265.png\n",
      "/home/rajithameka/DL/notebooks/car_images/001301.png\n",
      "/home/rajithameka/DL/notebooks/car_images/001327.png\n",
      "/home/rajithameka/DL/notebooks/car_images/001287.png\n",
      "/home/rajithameka/DL/notebooks/car_images/001458.png\n",
      "/home/rajithameka/DL/notebooks/car_images/001312.png\n",
      "/home/rajithameka/DL/notebooks/car_images/001369.png\n",
      "/home/rajithameka/DL/notebooks/car_images/005537.png\n",
      "/home/rajithameka/DL/notebooks/car_images/005031.png\n",
      "/home/rajithameka/DL/notebooks/car_images/004819.png\n",
      "/home/rajithameka/DL/notebooks/car_images/001403.png\n",
      "/home/rajithameka/DL/notebooks/car_images/006398.png\n",
      "/home/rajithameka/DL/notebooks/car_images/008015.png\n",
      "/home/rajithameka/DL/notebooks/car_images/001334.png\n",
      "/home/rajithameka/DL/notebooks/car_images/001310.png\n",
      "/home/rajithameka/DL/notebooks/car_images/014690.png\n",
      "/home/rajithameka/DL/notebooks/car_images/011672.png\n",
      "/home/rajithameka/DL/notebooks/car_images/001412.png\n",
      "/home/rajithameka/DL/notebooks/car_images/001311.png\n",
      "/home/rajithameka/DL/notebooks/car_images/001269.png\n",
      "/home/rajithameka/DL/notebooks/car_images/001366.png\n",
      "/home/rajithameka/DL/notebooks/car_images/003338.png\n",
      "/home/rajithameka/DL/notebooks/car_images/001053.png\n",
      "/home/rajithameka/DL/notebooks/car_images/001257.png\n",
      "/home/rajithameka/DL/notebooks/car_images/001225.png\n",
      "/home/rajithameka/DL/notebooks/car_images/013394.png\n",
      "/home/rajithameka/DL/notebooks/car_images/003543.png\n",
      "/home/rajithameka/DL/notebooks/car_images/001390.png\n",
      "/home/rajithameka/DL/notebooks/car_images/001270.png\n",
      "/home/rajithameka/DL/notebooks/car_images/001302.png\n",
      "/home/rajithameka/DL/notebooks/car_images/003712.png\n",
      "/home/rajithameka/DL/notebooks/car_images/014761.png\n",
      "/home/rajithameka/DL/notebooks/car_images/000050.png\n"
     ]
    }
   ],
   "source": [
    "#print(image_path)\n",
    "image_size = []\n",
    "\n",
    "for path in enumerate(image_path):\n",
    "    #print(path[1])\n",
    "    image = mpimg.imread(path[1]).astype(float)\n",
    "    p = (image.shape)\n",
    "    #print(p)\n",
    "    #print(len(p))\n",
    "    if len(p) == 2:\n",
    "        z = path[1]\n",
    "        print(z)"
   ]
  },
  {
   "cell_type": "code",
   "execution_count": 45,
   "metadata": {
    "collapsed": false
   },
   "outputs": [
    {
     "name": "stdout",
     "output_type": "stream",
     "text": [
      "dict_keys(['__header__', '__version__', 'class_names', 'annotations', '__globals__'])\n"
     ]
    }
   ],
   "source": [
    "mat = scipy.io.loadmat('cars_annos_ALL.mat')\n",
    "print (mat.keys())"
   ]
  },
  {
   "cell_type": "code",
   "execution_count": 50,
   "metadata": {
    "collapsed": false
   },
   "outputs": [],
   "source": [
    "c = mat['annotations']\n",
    "#img_list = csv.writer(open(\"all_img.csv\",\"w\",newline=''))       \n",
    "#lab_list = csv.writer(open(\"all_lab.csv\",\"w\",newline=''))       \n",
    "ann_list = csv.writer(open(\"Ann.csv\",\"w\",newline=''))\n",
    "for i in range(16185):\n",
    "    f = c[0,i]\n",
    "    g1 = f[0]\n",
    "    #img_list.writerow(g1)\n",
    "    g2 = f[5]\n",
    "    #lab_list.writerows(g2)\n",
    "    g3 = f[1]\n",
    "    g4 = f[2]\n",
    "    g5 = f[3]\n",
    "    g6 = f[4]\n",
    "    ann_list.writerow([g1,g2,g3,g4,g5,g6])"
   ]
  },
  {
   "cell_type": "code",
   "execution_count": 8,
   "metadata": {
    "collapsed": false
   },
   "outputs": [],
   "source": []
  },
  {
   "cell_type": "code",
   "execution_count": null,
   "metadata": {
    "collapsed": true
   },
   "outputs": [],
   "source": []
  }
 ],
 "metadata": {
  "kernelspec": {
   "display_name": "Python 3",
   "language": "python",
   "name": "python3"
  },
  "language_info": {
   "codemirror_mode": {
    "name": "ipython",
    "version": 3
   },
   "file_extension": ".py",
   "mimetype": "text/x-python",
   "name": "python",
   "nbconvert_exporter": "python",
   "pygments_lexer": "ipython3",
   "version": "3.4.3"
  }
 },
 "nbformat": 4,
 "nbformat_minor": 1
}
